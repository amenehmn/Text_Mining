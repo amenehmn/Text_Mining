{
 "cells": [
  {
   "cell_type": "code",
   "execution_count": 1,
   "metadata": {},
   "outputs": [],
   "source": [
    "import requests\n",
    "from bs4 import BeautifulSoup\n",
    "import pandas as pd"
   ]
  },
  {
   "cell_type": "code",
   "execution_count": 2,
   "metadata": {},
   "outputs": [
    {
     "name": "stderr",
     "output_type": "stream",
     "text": [
      "C:\\Users\\Amenehmn\\Anaconda3\\lib\\site-packages\\urllib3\\connectionpool.py:857: InsecureRequestWarning: Unverified HTTPS request is being made. Adding certificate verification is strongly advised. See: https://urllib3.readthedocs.io/en/latest/advanced-usage.html#ssl-warnings\n",
      "  InsecureRequestWarning)\n"
     ]
    }
   ],
   "source": [
    "divar = requests.get('https://divar.ir/s/isfahan', verify=False)\n",
    "\n",
    "divarsoup = BeautifulSoup(divar.text, 'html.parser')\n"
   ]
  },
  {
   "cell_type": "code",
   "execution_count": 3,
   "metadata": {},
   "outputs": [
    {
     "name": "stdout",
     "output_type": "stream",
     "text": [
      "/v/آرکوپال-۲۶پارچه-هایمیش-آلمان_ظروف-سرو-و-پذیرایی_اصفهان_زرین-شهر_دیوار/AZ4chJx6\n",
      "/v/عروس-هلندی-مولد-لوتینو_پرنده_اصفهان_احمدآباد_دیوار/AZ4UBYNl\n",
      "/services/craftsmen/sMDse\n",
      "/v/فروش-زمین-دهاقان-درب-ساخت-شهرک-سجاد_زمین-و-کلنگی_اصفهان_شهرضا_دیوار/AZ4YhjDZ\n",
      "/v/آپارتمان-۱۳۰-متری-تک-واحدی-۳خواب_آپارتمان_اصفهان_باغ-زیار_دیوار/AZ4Yh6bF\n",
      "/v/پژو-پارس-ساده-مدل-۱۳۹۱_سواری-و-وانت_اصفهان_لاله_دیوار/AZ2MN-Yg\n",
      "/v/گلدان-نخل-مصنوعی_گل-مصنوعی_اصفهان_بهارستان_دیوار/AZ4chItd\n",
      "/v/جوجه-عروس-هلندی-البینوخالص_پرنده_اصفهان_آفاران_دیوار/AZ4chJa0\n",
      "/v/تلوزیون-gplus-۳۲-اینچ-نو_تلویزیون-و-پروژکتور_اصفهان_باغ-غدیر_دیوار/AZ4cxyLg\n",
      "/v/کولر-آبی-جنرال_کولر-آبی_اصفهان_شهریار_دیوار/gYlWYB5s\n",
      "/v/کفش-مردانه-مدل-اسکیچرز_کیف-کفش-کمربند_اصفهان_محله-سفلی_دیوار/AZ34vsjX\n",
      "/v/کفش-مردانه-آدیداس-zx700_کیف-کفش-کمربند_اصفهان_محله-سفلی_دیوار/AZ4Ew4f4\n",
      "/v/لاستیک-سمند-ایران-تایر_قطعات-یدکی-و-لوازم-جانبی_اصفهان_خمینی-شهر_دیوار/AZ4QRsrI\n",
      "/v/دوچرخه_دوچرخه-اسکیت-اسکوتر_اصفهان_ملک-شهر_دیوار/AZ4cBH5m\n",
      "/v/آپارتمان-۱۸۵-متری-باغ-غدیر_آپارتمان_اصفهان_فردوس_دیوار/AZ4cBhfG\n",
      "/v/فروش-کتاب-های-کمک-درسی_لوازم-التحریر_اصفهان_بزرگمهر_دیوار/AZ4URdRo\n",
      "/v/میز-و-صندلی-ناهار-خوری-چوبی-چوب-راش-چوب_میز-و-صندلی-غذاخوری_اصفهان_دولت-آباد_دیوار/AZ4kwwWC\n",
      "/v/اپل-iphone-11-با-حافظهٔ-۱۲۸-گیگابایت_گوشی-موبایل_اصفهان_سعادت-آباد_دیوار/AZ4Yh-GS\n",
      "/v/کاور-فرش-ترک_روفرشی_اصفهان_خمینی-شهر_دیوار/AZ4YB_WM\n",
      "/v/اسکوتر-دوچرخ-مارک-پرو-با-چرخ-های-ژله-ای-چراغ-دار_دوچرخه-اسکیت-اسکوتر_اصفهان_اشراق_دیوار/wYt__F7d\n",
      "/v/چهار-دیواری-فول-انشعابات-حیدراباد-جار-ایچی_زمین-و-کلنگی_اصفهان_آبشار_دیوار/AZusXIbb\n",
      "/v/موتور-کلیک-مدل-۹۹_موتورسیکلت_اصفهان_شهرضا_دیوار/AZ4sgeDK\n",
      "/v/دوچرخه-بچه-گانه_دوچرخه-اسکیت-اسکوتر_اصفهان_ملک-شهر_دیوار/AZ4UhiMn\n",
      "/v/منشی-خانم-پذیرش-مطب-زیبایی_درمانی-و-زیبایی-و-بهداشتی_اصفهان_شیخ-صدوق_دیوار/AZ4UQQZq\n"
     ]
    }
   ],
   "source": [
    "divarsoup.html.body.find()\n",
    "ads = len(divarsoup.html.body.find_all(class_=\"post-card-item-af972 kt-col-6-bee95 kt-col-xxl-4-e9d46\"))\n",
    "adslist = []\n",
    "for i in range(ads):\n",
    "    try:\n",
    "        link = divarsoup.html.body.find_all(class_=\"post-card-item-af972 kt-col-6-bee95 kt-col-xxl-4-e9d46\")[i].a['href']\n",
    "        adslist.append(link)\n",
    "        print(link)\n",
    "    except:\n",
    "        pass\n",
    " "
   ]
  },
  {
   "cell_type": "code",
   "execution_count": 8,
   "metadata": {},
   "outputs": [
    {
     "name": "stderr",
     "output_type": "stream",
     "text": [
      "C:\\Users\\Amenehmn\\Anaconda3\\lib\\site-packages\\urllib3\\connectionpool.py:857: InsecureRequestWarning: Unverified HTTPS request is being made. Adding certificate verification is strongly advised. See: https://urllib3.readthedocs.io/en/latest/advanced-usage.html#ssl-warnings\n",
      "  InsecureRequestWarning)\n"
     ]
    },
    {
     "data": {
      "text/plain": [
       "('خانه و آشپزخانه',\n",
       " 'گلدان نخل مصنوعی',\n",
       " 'گلدان مصنوعی نخل ۹ شاخه',\n",
       " '۲۵۰٬۰۰۰ تومان',\n",
       " 'https://divar.ir/v/گلدان-نخل-مصنوعی_گل-مصنوعی_اصفهان_بهارستان_دیوار/AZ4chItd')"
      ]
     },
     "execution_count": 8,
     "metadata": {},
     "output_type": "execute_result"
    }
   ],
   "source": [
    "from lxml import etree\n",
    "from lxml import html\n",
    "\n",
    "def GetAdsFeature(url):\n",
    "    try:\n",
    "        page = requests.get(url, verify=False)\n",
    "        tree = html.fromstring(page.content)\n",
    "\n",
    "        Name = tree.xpath('//*[@id=\"app\"]/div[2]/div/div/div[1]/div[1]/div/div[1]/text()')[0]\n",
    "        \n",
    "        Category = tree.xpath('//*[@id=\"app\"]/div[2]/div/nav/ol/li[1]/a/text()')[0]\n",
    "\n",
    "        Discription = tree.xpath('//*[@id=\"app\"]/div[2]/div/div/div[1]/div[5]/div[2]/div/p/text()')[0]\n",
    "\n",
    "        try:   \n",
    "            \n",
    "            # Find the element that contains the text 'قیمت'\n",
    "            Price = tree.xpath(\"//*[text()='قیمت']\")[0].getparent().getnext().text_content()\n",
    "            \n",
    "        except:\n",
    "            Price = '--'\n",
    "        \n",
    "        return Category,Name,Discription,Price,url \n",
    "    except:\n",
    "        pass\n",
    "        \n",
    "\n",
    "Test = GetAdsFeature('https://divar.ir'+adslist[6])\n",
    "\n",
    "Test"
   ]
  },
  {
   "cell_type": "code",
   "execution_count": 9,
   "metadata": {
    "scrolled": true
   },
   "outputs": [
    {
     "name": "stderr",
     "output_type": "stream",
     "text": [
      "C:\\Users\\Amenehmn\\Anaconda3\\lib\\site-packages\\urllib3\\connectionpool.py:857: InsecureRequestWarning: Unverified HTTPS request is being made. Adding certificate verification is strongly advised. See: https://urllib3.readthedocs.io/en/latest/advanced-usage.html#ssl-warnings\n",
      "  InsecureRequestWarning)\n",
      "C:\\Users\\Amenehmn\\Anaconda3\\lib\\site-packages\\urllib3\\connectionpool.py:857: InsecureRequestWarning: Unverified HTTPS request is being made. Adding certificate verification is strongly advised. See: https://urllib3.readthedocs.io/en/latest/advanced-usage.html#ssl-warnings\n",
      "  InsecureRequestWarning)\n"
     ]
    },
    {
     "name": "stdout",
     "output_type": "stream",
     "text": [
      "1 / 24\n",
      "2 / 24\n"
     ]
    },
    {
     "name": "stderr",
     "output_type": "stream",
     "text": [
      "C:\\Users\\Amenehmn\\Anaconda3\\lib\\site-packages\\urllib3\\connectionpool.py:857: InsecureRequestWarning: Unverified HTTPS request is being made. Adding certificate verification is strongly advised. See: https://urllib3.readthedocs.io/en/latest/advanced-usage.html#ssl-warnings\n",
      "  InsecureRequestWarning)\n",
      "C:\\Users\\Amenehmn\\Anaconda3\\lib\\site-packages\\urllib3\\connectionpool.py:857: InsecureRequestWarning: Unverified HTTPS request is being made. Adding certificate verification is strongly advised. See: https://urllib3.readthedocs.io/en/latest/advanced-usage.html#ssl-warnings\n",
      "  InsecureRequestWarning)\n"
     ]
    },
    {
     "name": "stdout",
     "output_type": "stream",
     "text": [
      "3 / 24\n",
      "'NoneType' object is not subscriptable\n",
      "4 / 24\n"
     ]
    },
    {
     "name": "stderr",
     "output_type": "stream",
     "text": [
      "C:\\Users\\Amenehmn\\Anaconda3\\lib\\site-packages\\urllib3\\connectionpool.py:857: InsecureRequestWarning: Unverified HTTPS request is being made. Adding certificate verification is strongly advised. See: https://urllib3.readthedocs.io/en/latest/advanced-usage.html#ssl-warnings\n",
      "  InsecureRequestWarning)\n"
     ]
    },
    {
     "name": "stdout",
     "output_type": "stream",
     "text": [
      "5 / 24\n",
      "6 / 24\n"
     ]
    },
    {
     "name": "stderr",
     "output_type": "stream",
     "text": [
      "C:\\Users\\Amenehmn\\Anaconda3\\lib\\site-packages\\urllib3\\connectionpool.py:857: InsecureRequestWarning: Unverified HTTPS request is being made. Adding certificate verification is strongly advised. See: https://urllib3.readthedocs.io/en/latest/advanced-usage.html#ssl-warnings\n",
      "  InsecureRequestWarning)\n",
      "C:\\Users\\Amenehmn\\Anaconda3\\lib\\site-packages\\urllib3\\connectionpool.py:857: InsecureRequestWarning: Unverified HTTPS request is being made. Adding certificate verification is strongly advised. See: https://urllib3.readthedocs.io/en/latest/advanced-usage.html#ssl-warnings\n",
      "  InsecureRequestWarning)\n"
     ]
    },
    {
     "name": "stdout",
     "output_type": "stream",
     "text": [
      "7 / 24\n",
      "8 / 24\n"
     ]
    },
    {
     "name": "stderr",
     "output_type": "stream",
     "text": [
      "C:\\Users\\Amenehmn\\Anaconda3\\lib\\site-packages\\urllib3\\connectionpool.py:857: InsecureRequestWarning: Unverified HTTPS request is being made. Adding certificate verification is strongly advised. See: https://urllib3.readthedocs.io/en/latest/advanced-usage.html#ssl-warnings\n",
      "  InsecureRequestWarning)\n",
      "C:\\Users\\Amenehmn\\Anaconda3\\lib\\site-packages\\urllib3\\connectionpool.py:857: InsecureRequestWarning: Unverified HTTPS request is being made. Adding certificate verification is strongly advised. See: https://urllib3.readthedocs.io/en/latest/advanced-usage.html#ssl-warnings\n",
      "  InsecureRequestWarning)\n"
     ]
    },
    {
     "name": "stdout",
     "output_type": "stream",
     "text": [
      "9 / 24\n",
      "10 / 24\n"
     ]
    },
    {
     "name": "stderr",
     "output_type": "stream",
     "text": [
      "C:\\Users\\Amenehmn\\Anaconda3\\lib\\site-packages\\urllib3\\connectionpool.py:857: InsecureRequestWarning: Unverified HTTPS request is being made. Adding certificate verification is strongly advised. See: https://urllib3.readthedocs.io/en/latest/advanced-usage.html#ssl-warnings\n",
      "  InsecureRequestWarning)\n",
      "C:\\Users\\Amenehmn\\Anaconda3\\lib\\site-packages\\urllib3\\connectionpool.py:857: InsecureRequestWarning: Unverified HTTPS request is being made. Adding certificate verification is strongly advised. See: https://urllib3.readthedocs.io/en/latest/advanced-usage.html#ssl-warnings\n",
      "  InsecureRequestWarning)\n"
     ]
    },
    {
     "name": "stdout",
     "output_type": "stream",
     "text": [
      "11 / 24\n"
     ]
    },
    {
     "name": "stderr",
     "output_type": "stream",
     "text": [
      "C:\\Users\\Amenehmn\\Anaconda3\\lib\\site-packages\\urllib3\\connectionpool.py:857: InsecureRequestWarning: Unverified HTTPS request is being made. Adding certificate verification is strongly advised. See: https://urllib3.readthedocs.io/en/latest/advanced-usage.html#ssl-warnings\n",
      "  InsecureRequestWarning)\n"
     ]
    },
    {
     "name": "stdout",
     "output_type": "stream",
     "text": [
      "12 / 24\n"
     ]
    },
    {
     "name": "stderr",
     "output_type": "stream",
     "text": [
      "C:\\Users\\Amenehmn\\Anaconda3\\lib\\site-packages\\urllib3\\connectionpool.py:857: InsecureRequestWarning: Unverified HTTPS request is being made. Adding certificate verification is strongly advised. See: https://urllib3.readthedocs.io/en/latest/advanced-usage.html#ssl-warnings\n",
      "  InsecureRequestWarning)\n"
     ]
    },
    {
     "name": "stdout",
     "output_type": "stream",
     "text": [
      "13 / 24\n",
      "14 / 24\n"
     ]
    },
    {
     "name": "stderr",
     "output_type": "stream",
     "text": [
      "C:\\Users\\Amenehmn\\Anaconda3\\lib\\site-packages\\urllib3\\connectionpool.py:857: InsecureRequestWarning: Unverified HTTPS request is being made. Adding certificate verification is strongly advised. See: https://urllib3.readthedocs.io/en/latest/advanced-usage.html#ssl-warnings\n",
      "  InsecureRequestWarning)\n",
      "C:\\Users\\Amenehmn\\Anaconda3\\lib\\site-packages\\urllib3\\connectionpool.py:857: InsecureRequestWarning: Unverified HTTPS request is being made. Adding certificate verification is strongly advised. See: https://urllib3.readthedocs.io/en/latest/advanced-usage.html#ssl-warnings\n",
      "  InsecureRequestWarning)\n"
     ]
    },
    {
     "name": "stdout",
     "output_type": "stream",
     "text": [
      "15 / 24\n",
      "16 / 24"
     ]
    },
    {
     "name": "stderr",
     "output_type": "stream",
     "text": [
      "C:\\Users\\Amenehmn\\Anaconda3\\lib\\site-packages\\urllib3\\connectionpool.py:857: InsecureRequestWarning: Unverified HTTPS request is being made. Adding certificate verification is strongly advised. See: https://urllib3.readthedocs.io/en/latest/advanced-usage.html#ssl-warnings\n",
      "  InsecureRequestWarning)\n",
      "C:\\Users\\Amenehmn\\Anaconda3\\lib\\site-packages\\urllib3\\connectionpool.py:857: InsecureRequestWarning: Unverified HTTPS request is being made. Adding certificate verification is strongly advised. See: https://urllib3.readthedocs.io/en/latest/advanced-usage.html#ssl-warnings\n",
      "  InsecureRequestWarning)\n"
     ]
    },
    {
     "name": "stdout",
     "output_type": "stream",
     "text": [
      "\n",
      "17 / 24\n",
      "'NoneType' object is not subscriptable\n",
      "18 / 24\n",
      "'NoneType' object is not subscriptable\n",
      "19 / 24\n",
      "'NoneType' object is not subscriptable\n",
      "20 / 24\n",
      "'NoneType' object is not subscriptable\n"
     ]
    },
    {
     "name": "stderr",
     "output_type": "stream",
     "text": [
      "C:\\Users\\Amenehmn\\Anaconda3\\lib\\site-packages\\urllib3\\connectionpool.py:857: InsecureRequestWarning: Unverified HTTPS request is being made. Adding certificate verification is strongly advised. See: https://urllib3.readthedocs.io/en/latest/advanced-usage.html#ssl-warnings\n",
      "  InsecureRequestWarning)\n",
      "C:\\Users\\Amenehmn\\Anaconda3\\lib\\site-packages\\urllib3\\connectionpool.py:857: InsecureRequestWarning: Unverified HTTPS request is being made. Adding certificate verification is strongly advised. See: https://urllib3.readthedocs.io/en/latest/advanced-usage.html#ssl-warnings\n",
      "  InsecureRequestWarning)\n",
      "C:\\Users\\Amenehmn\\Anaconda3\\lib\\site-packages\\urllib3\\connectionpool.py:857: InsecureRequestWarning: Unverified HTTPS request is being made. Adding certificate verification is strongly advised. See: https://urllib3.readthedocs.io/en/latest/advanced-usage.html#ssl-warnings\n",
      "  InsecureRequestWarning)\n",
      "C:\\Users\\Amenehmn\\Anaconda3\\lib\\site-packages\\urllib3\\connectionpool.py:857: InsecureRequestWarning: Unverified HTTPS request is being made. Adding certificate verification is strongly advised. See: https://urllib3.readthedocs.io/en/latest/advanced-usage.html#ssl-warnings\n",
      "  InsecureRequestWarning)\n"
     ]
    },
    {
     "name": "stdout",
     "output_type": "stream",
     "text": [
      "21 / 24\n",
      "'NoneType' object is not subscriptable\n",
      "22 / 24\n",
      "'NoneType' object is not subscriptable\n",
      "23 / 24\n",
      "'NoneType' object is not subscriptable\n",
      "24 / 24\n",
      "'NoneType' object is not subscriptable\n"
     ]
    },
    {
     "name": "stderr",
     "output_type": "stream",
     "text": [
      "C:\\Users\\Amenehmn\\Anaconda3\\lib\\site-packages\\urllib3\\connectionpool.py:857: InsecureRequestWarning: Unverified HTTPS request is being made. Adding certificate verification is strongly advised. See: https://urllib3.readthedocs.io/en/latest/advanced-usage.html#ssl-warnings\n",
      "  InsecureRequestWarning)\n",
      "C:\\Users\\Amenehmn\\Anaconda3\\lib\\site-packages\\urllib3\\connectionpool.py:857: InsecureRequestWarning: Unverified HTTPS request is being made. Adding certificate verification is strongly advised. See: https://urllib3.readthedocs.io/en/latest/advanced-usage.html#ssl-warnings\n",
      "  InsecureRequestWarning)\n",
      "C:\\Users\\Amenehmn\\Anaconda3\\lib\\site-packages\\urllib3\\connectionpool.py:857: InsecureRequestWarning: Unverified HTTPS request is being made. Adding certificate verification is strongly advised. See: https://urllib3.readthedocs.io/en/latest/advanced-usage.html#ssl-warnings\n",
      "  InsecureRequestWarning)\n"
     ]
    },
    {
     "data": {
      "text/html": [
       "<div>\n",
       "<style scoped>\n",
       "    .dataframe tbody tr th:only-of-type {\n",
       "        vertical-align: middle;\n",
       "    }\n",
       "\n",
       "    .dataframe tbody tr th {\n",
       "        vertical-align: top;\n",
       "    }\n",
       "\n",
       "    .dataframe thead th {\n",
       "        text-align: right;\n",
       "    }\n",
       "</style>\n",
       "<table border=\"1\" class=\"dataframe\">\n",
       "  <thead>\n",
       "    <tr style=\"text-align: right;\">\n",
       "      <th></th>\n",
       "      <th>Category</th>\n",
       "      <th>Name</th>\n",
       "      <th>Discription</th>\n",
       "      <th>Price</th>\n",
       "      <th>url</th>\n",
       "    </tr>\n",
       "  </thead>\n",
       "  <tbody>\n",
       "    <tr>\n",
       "      <th>0</th>\n",
       "      <td>خانه و آشپزخانه</td>\n",
       "      <td>آرکوپال ۲۶پارچه هایمیش آلمان</td>\n",
       "      <td>۱دیس بزرگ\\n۱کاسه بزرگ\\n۶خورشت خوری\\n۶برنج خوری...</td>\n",
       "      <td>۹۰۰٬۰۰۰ تومان (مقطوع)</td>\n",
       "      <td>https://divar.ir/v/آرکوپال-۲۶پارچه-هایمیش-آلما...</td>\n",
       "    </tr>\n",
       "    <tr>\n",
       "      <th>1</th>\n",
       "      <td>سرگرمی و فراغت</td>\n",
       "      <td>عروس هلندی مولد لوتینو</td>\n",
       "      <td>با سلام\\nیک جفت عروس هلندی مولد لوتینو \\nسن دو...</td>\n",
       "      <td>۱٬۲۳۴ تومان</td>\n",
       "      <td>https://divar.ir/v/عروس-هلندی-مولد-لوتینو_پرند...</td>\n",
       "    </tr>\n",
       "    <tr>\n",
       "      <th>2</th>\n",
       "      <td>املاک</td>\n",
       "      <td>فروش زمین دهاقان درب ساخت شهرک سجاد</td>\n",
       "      <td>زمین مسکونی دویست متری درب ساخت شهرک سجاد دهاق...</td>\n",
       "      <td>--</td>\n",
       "      <td>https://divar.ir/v/فروش-زمین-دهاقان-درب-ساخت-ش...</td>\n",
       "    </tr>\n",
       "    <tr>\n",
       "      <th>3</th>\n",
       "      <td>املاک</td>\n",
       "      <td>آپارتمان ۱۳۰ متری ،تک واحدی،۳خواب</td>\n",
       "      <td>به نام خدا\\nاملاک باغ زیار\\n------------------...</td>\n",
       "      <td>--</td>\n",
       "      <td>https://divar.ir/v/آپارتمان-۱۳۰-متری-تک-واحدی-...</td>\n",
       "    </tr>\n",
       "    <tr>\n",
       "      <th>4</th>\n",
       "      <td>وسایل نقلیه</td>\n",
       "      <td>پژو پارس ساده، مدل ۱۳۹۱</td>\n",
       "      <td>باسلام\\nپژو پارس مدل ۹۱\\nبیمه تا برج ۵\\nسند آم...</td>\n",
       "      <td>--</td>\n",
       "      <td>https://divar.ir/v/پژو-پارس-ساده-مدل-۱۳۹۱_سوار...</td>\n",
       "    </tr>\n",
       "    <tr>\n",
       "      <th>5</th>\n",
       "      <td>خانه و آشپزخانه</td>\n",
       "      <td>گلدان نخل مصنوعی</td>\n",
       "      <td>گلدان مصنوعی نخل ۹ شاخه</td>\n",
       "      <td>۲۵۰٬۰۰۰ تومان</td>\n",
       "      <td>https://divar.ir/v/گلدان-نخل-مصنوعی_گل-مصنوعی_...</td>\n",
       "    </tr>\n",
       "    <tr>\n",
       "      <th>6</th>\n",
       "      <td>سرگرمی و فراغت</td>\n",
       "      <td>جوجه عروس هلندی البینوخالص</td>\n",
       "      <td>با سلام فروش دوعدد جوجه عروس هلندی البینو خالص...</td>\n",
       "      <td>۱٬۵۰۰٬۰۰۰ تومان</td>\n",
       "      <td>https://divar.ir/v/جوجه-عروس-هلندی-البینوخالص_...</td>\n",
       "    </tr>\n",
       "    <tr>\n",
       "      <th>7</th>\n",
       "      <td>کالای دیجیتال</td>\n",
       "      <td>تلوزیون gplus ۳۲ اینچ نو</td>\n",
       "      <td>تلوزیون کاملا نو هست هنوز پلاستیک ها کنده نشده</td>\n",
       "      <td>۵٬۲۰۰٬۰۰۰ تومان</td>\n",
       "      <td>https://divar.ir/v/تلوزیون-gplus-۳۲-اینچ-نو_تل...</td>\n",
       "    </tr>\n",
       "    <tr>\n",
       "      <th>8</th>\n",
       "      <td>خانه و آشپزخانه</td>\n",
       "      <td>کولر آبی جنرال</td>\n",
       "      <td>فروش انواع کولر آبی جنرال در همه سایز دریچه با...</td>\n",
       "      <td>۱٬۵۵۰٬۰۰۰ تومان</td>\n",
       "      <td>https://divar.ir/v/کولر-آبی-جنرال_کولر-آبی_اصف...</td>\n",
       "    </tr>\n",
       "    <tr>\n",
       "      <th>9</th>\n",
       "      <td>وسایل شخصی</td>\n",
       "      <td>کفش مردانه مدل اسکیچرز</td>\n",
       "      <td>اسپرت مردانه  مدل اسکیچرز  (دوسال بپوشش) \\n 6 ...</td>\n",
       "      <td>۳۵۹٬۰۰۰ تومان</td>\n",
       "      <td>https://divar.ir/v/کفش-مردانه-مدل-اسکیچرز_کیف-...</td>\n",
       "    </tr>\n",
       "    <tr>\n",
       "      <th>10</th>\n",
       "      <td>وسایل شخصی</td>\n",
       "      <td>کفش مردانه آدیداس ZX700</td>\n",
       "      <td>اسپرت مردانه مدل آدیداس ZX700 در رنگهای جدید ش...</td>\n",
       "      <td>۲۹۹٬۰۰۰ تومان</td>\n",
       "      <td>https://divar.ir/v/کفش-مردانه-آدیداس-zx700_کیف...</td>\n",
       "    </tr>\n",
       "    <tr>\n",
       "      <th>11</th>\n",
       "      <td>وسایل نقلیه</td>\n",
       "      <td>لاستیک سمند ایران تایر</td>\n",
       "      <td>سلام یه جفت  لاستیک نو  سمند ایران تایر یورو ۲...</td>\n",
       "      <td>۳٬۴۰۰٬۰۰۰ تومان</td>\n",
       "      <td>https://divar.ir/v/لاستیک-سمند-ایران-تایر_قطعا...</td>\n",
       "    </tr>\n",
       "    <tr>\n",
       "      <th>12</th>\n",
       "      <td>سرگرمی و فراغت</td>\n",
       "      <td>دوچرخه</td>\n",
       "      <td>دوچرخه سالم قیمت ۱۲۰۰۰۰۰ \\nچت دیوار در صورت تم...</td>\n",
       "      <td>۱٬۲۰۰٬۰۰۰ تومان</td>\n",
       "      <td>https://divar.ir/v/دوچرخه_دوچرخه-اسکیت-اسکوتر_...</td>\n",
       "    </tr>\n",
       "    <tr>\n",
       "      <th>13</th>\n",
       "      <td>املاک</td>\n",
       "      <td>آپارتمان ۱۸۵ متری /باغ غدیر</td>\n",
       "      <td>آپارتمان ۱۸۵ متری /سه خواب \\n✅️نورگیر جنوبی غر...</td>\n",
       "      <td>--</td>\n",
       "      <td>https://divar.ir/v/آپارتمان-۱۸۵-متری-باغ-غدیر_...</td>\n",
       "    </tr>\n",
       "    <tr>\n",
       "      <th>14</th>\n",
       "      <td>وسایل شخصی</td>\n",
       "      <td>فروش کتاب های کمک درسی</td>\n",
       "      <td>سلام کتاب های رشته ریاضی به فروش می‌رسد با قیم...</td>\n",
       "      <td>۱۲۰٬۰۰۰ تومان (مقطوع)</td>\n",
       "      <td>https://divar.ir/v/فروش-کتاب-های-کمک-درسی_لواز...</td>\n",
       "    </tr>\n",
       "  </tbody>\n",
       "</table>\n",
       "</div>"
      ],
      "text/plain": [
       "           Category                                 Name  \\\n",
       "0   خانه و آشپزخانه         آرکوپال ۲۶پارچه هایمیش آلمان   \n",
       "1    سرگرمی و فراغت               عروس هلندی مولد لوتینو   \n",
       "2             املاک  فروش زمین دهاقان درب ساخت شهرک سجاد   \n",
       "3             املاک    آپارتمان ۱۳۰ متری ،تک واحدی،۳خواب   \n",
       "4       وسایل نقلیه              پژو پارس ساده، مدل ۱۳۹۱   \n",
       "5   خانه و آشپزخانه                     گلدان نخل مصنوعی   \n",
       "6    سرگرمی و فراغت           جوجه عروس هلندی البینوخالص   \n",
       "7     کالای دیجیتال             تلوزیون gplus ۳۲ اینچ نو   \n",
       "8   خانه و آشپزخانه                       کولر آبی جنرال   \n",
       "9        وسایل شخصی               کفش مردانه مدل اسکیچرز   \n",
       "10       وسایل شخصی              کفش مردانه آدیداس ZX700   \n",
       "11      وسایل نقلیه               لاستیک سمند ایران تایر   \n",
       "12   سرگرمی و فراغت                               دوچرخه   \n",
       "13            املاک          آپارتمان ۱۸۵ متری /باغ غدیر   \n",
       "14       وسایل شخصی               فروش کتاب های کمک درسی   \n",
       "\n",
       "                                          Discription                  Price  \\\n",
       "0   ۱دیس بزرگ\\n۱کاسه بزرگ\\n۶خورشت خوری\\n۶برنج خوری...  ۹۰۰٬۰۰۰ تومان (مقطوع)   \n",
       "1   با سلام\\nیک جفت عروس هلندی مولد لوتینو \\nسن دو...            ۱٬۲۳۴ تومان   \n",
       "2   زمین مسکونی دویست متری درب ساخت شهرک سجاد دهاق...                     --   \n",
       "3   به نام خدا\\nاملاک باغ زیار\\n------------------...                     --   \n",
       "4   باسلام\\nپژو پارس مدل ۹۱\\nبیمه تا برج ۵\\nسند آم...                     --   \n",
       "5                             گلدان مصنوعی نخل ۹ شاخه          ۲۵۰٬۰۰۰ تومان   \n",
       "6   با سلام فروش دوعدد جوجه عروس هلندی البینو خالص...        ۱٬۵۰۰٬۰۰۰ تومان   \n",
       "7      تلوزیون کاملا نو هست هنوز پلاستیک ها کنده نشده        ۵٬۲۰۰٬۰۰۰ تومان   \n",
       "8   فروش انواع کولر آبی جنرال در همه سایز دریچه با...        ۱٬۵۵۰٬۰۰۰ تومان   \n",
       "9   اسپرت مردانه  مدل اسکیچرز  (دوسال بپوشش) \\n 6 ...          ۳۵۹٬۰۰۰ تومان   \n",
       "10  اسپرت مردانه مدل آدیداس ZX700 در رنگهای جدید ش...          ۲۹۹٬۰۰۰ تومان   \n",
       "11  سلام یه جفت  لاستیک نو  سمند ایران تایر یورو ۲...        ۳٬۴۰۰٬۰۰۰ تومان   \n",
       "12  دوچرخه سالم قیمت ۱۲۰۰۰۰۰ \\nچت دیوار در صورت تم...        ۱٬۲۰۰٬۰۰۰ تومان   \n",
       "13  آپارتمان ۱۸۵ متری /سه خواب \\n✅️نورگیر جنوبی غر...                     --   \n",
       "14  سلام کتاب های رشته ریاضی به فروش می‌رسد با قیم...  ۱۲۰٬۰۰۰ تومان (مقطوع)   \n",
       "\n",
       "                                                  url  \n",
       "0   https://divar.ir/v/آرکوپال-۲۶پارچه-هایمیش-آلما...  \n",
       "1   https://divar.ir/v/عروس-هلندی-مولد-لوتینو_پرند...  \n",
       "2   https://divar.ir/v/فروش-زمین-دهاقان-درب-ساخت-ش...  \n",
       "3   https://divar.ir/v/آپارتمان-۱۳۰-متری-تک-واحدی-...  \n",
       "4   https://divar.ir/v/پژو-پارس-ساده-مدل-۱۳۹۱_سوار...  \n",
       "5   https://divar.ir/v/گلدان-نخل-مصنوعی_گل-مصنوعی_...  \n",
       "6   https://divar.ir/v/جوجه-عروس-هلندی-البینوخالص_...  \n",
       "7   https://divar.ir/v/تلوزیون-gplus-۳۲-اینچ-نو_تل...  \n",
       "8   https://divar.ir/v/کولر-آبی-جنرال_کولر-آبی_اصف...  \n",
       "9   https://divar.ir/v/کفش-مردانه-مدل-اسکیچرز_کیف-...  \n",
       "10  https://divar.ir/v/کفش-مردانه-آدیداس-zx700_کیف...  \n",
       "11  https://divar.ir/v/لاستیک-سمند-ایران-تایر_قطعا...  \n",
       "12  https://divar.ir/v/دوچرخه_دوچرخه-اسکیت-اسکوتر_...  \n",
       "13  https://divar.ir/v/آپارتمان-۱۸۵-متری-باغ-غدیر_...  \n",
       "14  https://divar.ir/v/فروش-کتاب-های-کمک-درسی_لواز...  "
      ]
     },
     "execution_count": 9,
     "metadata": {},
     "output_type": "execute_result"
    }
   ],
   "source": [
    "from pandas import DataFrame\n",
    "\n",
    "adsfinallistt = []\n",
    "counter  = 0\n",
    "len_ads = len(adslist)\n",
    "for i in adslist:\n",
    "    try:\n",
    "        x = GetAdsFeature('https://divar.ir'+i)\n",
    "        \n",
    "        Category= x[0]\n",
    "        Name=x[1]\n",
    "        Discription=x[2]\n",
    "        Price=x[3]\n",
    "        url=x[4]\n",
    "        \n",
    "        counter += 1\n",
    "        print(counter,\"/\",len_ads)\n",
    "        \n",
    "        adsfinallistt.append([Category,Name,Discription,Price,url])\n",
    "        \n",
    "    except Exception as e:\n",
    "        counter += 1\n",
    "        print(counter,\"/\",len_ads)\n",
    "        print(e)\n",
    "\n",
    "df = DataFrame(adsfinallistt,columns=['Category','Name','Discription','Price','url'])\n",
    "\n",
    "\n",
    "df.to_csv(r\"./exportFinal_divar.csv\", sep='|', encoding='utf-8')\n",
    "\n",
    "df"
   ]
  }
 ],
 "metadata": {
  "kernelspec": {
   "display_name": "Python 3",
   "language": "python",
   "name": "python3"
  },
  "language_info": {
   "codemirror_mode": {
    "name": "ipython",
    "version": 3
   },
   "file_extension": ".py",
   "mimetype": "text/x-python",
   "name": "python",
   "nbconvert_exporter": "python",
   "pygments_lexer": "ipython3",
   "version": "3.6.6"
  }
 },
 "nbformat": 4,
 "nbformat_minor": 2
}
